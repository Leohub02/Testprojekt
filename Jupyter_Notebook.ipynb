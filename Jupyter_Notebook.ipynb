{
 "cells": [
  {
   "cell_type": "markdown",
   "metadata": {},
   "source": [
    "<center>\n",
    "    <img src=\"https://cf-courses-data.s3.us.cloud-object-storage.appdomain.cloud/IBMDeveloperSkillsNetwork-DS0105EN-SkillsNetwork/labs/Module2/images/SN_web_lightmode.png\" width=\"300\" alt=\"cognitiveclass.ai logo\">\n",
    "</center>\n"
   ]
  },
  {
   "cell_type": "markdown",
   "metadata": {},
   "source": [
    "#### Add your code below following the instructions given in the course\n"
   ]
  },
  {
   "cell_type": "markdown",
   "metadata": {},
   "source": [
    "## Titel ##"
   ]
  },
  {
   "cell_type": "markdown",
   "metadata": {},
   "source": [
    "## Testprojekt ## \n",
    "\n"
   ]
  },
  {
   "cell_type": "markdown",
   "metadata": {
    "tags": []
   },
   "source": [
    "## Einleitung ##"
   ]
  },
  {
   "cell_type": "markdown",
   "metadata": {},
   "source": [
    "In diesem Projekt werden die Aufgaben für das Abschlussprojekt bearbeitet"
   ]
  },
  {
   "cell_type": "markdown",
   "metadata": {},
   "source": [
    "## Nr.4 Erstellen Sie eine Markdown-Zelle für die Auflistung der Data Science-Sprachen.  ##"
   ]
  },
  {
   "cell_type": "markdown",
   "metadata": {},
   "source": [
    "## Python,R,SQL,SAS,MATLAB,Scala,Java,C++ ##"
   ]
  },
  {
   "cell_type": "markdown",
   "metadata": {},
   "source": [
    "## Nr.5 Erstellen Sie eine Markdown-Zelle, um Data Science-Bibliotheken aufzulisten ##"
   ]
  },
  {
   "cell_type": "markdown",
   "metadata": {},
   "source": [
    "## Scikit-learn, TensorFlow, caret, PyTorch ##"
   ]
  },
  {
   "cell_type": "markdown",
   "metadata": {},
   "source": [
    "## Nr.6 Erstellen Sie eine Markdown-Zelle mit einer Tabelle von Data Science-Tools##"
   ]
  },
  {
   "cell_type": "markdown",
   "metadata": {},
   "source": [
    "| Kategorie        | Tool        | Beschreibung                                                       |\n",
    "|------------------|-------------|---------------------------------------------------------------------|\n",
    "| Programmiersprachen | Python      | Beliebt für Data Science, viele Bibliotheken für Datenanalyse.     |\n",
    "|                  | R           | Speziell für statistische Analysen und Visualisierungen entwickelt.|\n",
    "|                  | Julia       | Hochleistungs-Sprache für numerische und wissenschaftliche Berechnungen. |\n",
    "| Datenbanken      | SQL         | Standard-Sprache zur Abfrage und Manipulation von relationalen Datenbanken. |\n",
    "|                  | MongoDB      | NoSQL-Datenbank für unstrukturierte Daten und große Datenmengen.    |\n",
    "|                  | PostgreSQL   | Relationale Datenbank mit umfangreichen Funktionen für komplexe Abfragen. |\n"
   ]
  },
  {
   "cell_type": "markdown",
   "metadata": {
    "tags": []
   },
   "source": [
    "##Nr.7 Erstellen Sie eine Markdown-Zelle mit Beispielen für arithmetische Ausdrücke##"
   ]
  },
  {
   "cell_type": "markdown",
   "metadata": {},
   "source": [
    "10 % 3 \n",
    "10 - 4\n",
    "7 * 2"
   ]
  },
  {
   "cell_type": "markdown",
   "metadata": {},
   "source": [
    "##Nr.8 Erstellen Sie eine Codezelle zum Multiplizieren und Addieren von Zahlen##"
   ]
  },
  {
   "cell_type": "markdown",
   "metadata": {
    "tags": []
   },
   "source": [
    "5+6 = 11"
   ]
  },
  {
   "cell_type": "markdown",
   "metadata": {},
   "source": [
    " ## Erstellen Sie eine Codezelle zur Umrechnung von Minuten in Stunden.##"
   ]
  },
  {
   "cell_type": "code",
   "execution_count": 5,
   "metadata": {
    "tags": []
   },
   "outputs": [
    {
     "name": "stdout",
     "output_type": "stream",
     "text": [
      "150 Minuten entsprechen 2.50 Stunden.\n"
     ]
    }
   ],
   "source": [
    "\n",
    "def minuten_zu_stunden(minuten):\n",
    "    # Umrechnung von Minuten in Stunden\n",
    "    stunden = minuten / 60\n",
    "    return stunden\n",
    "\n",
    "minuten = 150\n",
    "stunden = minuten_zu_stunden(minuten)\n",
    "\n",
    "print(f\"{minuten} Minuten entsprechen {stunden:.2f} Stunden.\")\n"
   ]
  },
  {
   "cell_type": "markdown",
   "metadata": {},
   "source": [
    "## nr. 10 Fügen Sie eine Markdown-Zelle ein, um Ziele aufzulisten ##"
   ]
  },
  {
   "cell_type": "markdown",
   "metadata": {},
   "source": [
    "## Ziele ##"
   ]
  },
  {
   "cell_type": "markdown",
   "metadata": {
    "tags": []
   },
   "source": [
    "## Nr.11 Erstellen Sie eine Markdown-Zelle, um den Namen des Autors anzugeben ##"
   ]
  },
  {
   "cell_type": "markdown",
   "metadata": {},
   "source": [
    "## Name Autor =  ## "
   ]
  },
  {
   "cell_type": "code",
   "execution_count": null,
   "metadata": {},
   "outputs": [],
   "source": []
  },
  {
   "cell_type": "code",
   "execution_count": null,
   "metadata": {},
   "outputs": [],
   "source": []
  }
 ],
 "metadata": {
  "kernelspec": {
   "display_name": "Python",
   "language": "python",
   "name": "conda-env-python-py"
  },
  "language_info": {
   "codemirror_mode": {
    "name": "ipython",
    "version": 3
   },
   "file_extension": ".py",
   "mimetype": "text/x-python",
   "name": "python",
   "nbconvert_exporter": "python",
   "pygments_lexer": "ipython3",
   "version": "3.7.12"
  }
 },
 "nbformat": 4,
 "nbformat_minor": 4
}
